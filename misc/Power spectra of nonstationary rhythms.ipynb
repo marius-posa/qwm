{
 "cells": [
  {
   "cell_type": "markdown",
   "metadata": {},
   "source": [
    "It was once claimed \n",
    "\n",
    "```Alpha rhythms have nonzero power only at an alpha-band frequency and its higher harmonics```\n",
    "\n",
    "However, this assumes the alpha rhythm is stationary, which is often not true in neural signals in which the oscillations are bursting and have variable amplitudes, periods, and shapes.\n",
    "\n",
    "This notebook shows how changes in the rhythms affect the power spectra."
   ]
  },
  {
   "cell_type": "code",
   "execution_count": 1,
   "metadata": {},
   "outputs": [],
   "source": [
    "import numpy as np\n",
    "import neurodsp\n",
    "\n",
    "%matplotlib inline\n",
    "import matplotlib.pyplot as plt"
   ]
  },
  {
   "cell_type": "code",
   "execution_count": 2,
   "metadata": {},
   "outputs": [],
   "source": [
    "np.random.seed(0)"
   ]
  },
  {
   "cell_type": "markdown",
   "metadata": {},
   "source": [
    "# 1. Effect of bursting changes on PSD\n",
    "* More bursting: more broadband power\n",
    "* Bursting to any extent will significantly increase non-harmonic power"
   ]
  },
  {
   "cell_type": "code",
   "execution_count": 3,
   "metadata": {},
   "outputs": [],
   "source": [
    "freq = 10\n",
    "T = 100\n",
    "Fs = 1000"
   ]
  },
  {
   "cell_type": "code",
   "execution_count": 4,
   "metadata": {},
   "outputs": [],
   "source": [
    "cycle_features_use = {'amp_mean': 1, 'amp_burst_std': 0, 'amp_std': 0,\n",
    "                      'period_mean': 100,\n",
    "                      'period_burst_std': 0,\n",
    "                      'period_std': 0,\n",
    "                      'rdsym_mean': .3, 'rdsym_burst_std': 0, 'rdsym_std': 0}\n",
    "prob_leave_burst = .2\n",
    "\n",
    "loop_prob_enter_burst = [.1, .5, 1]"
   ]
  },
  {
   "cell_type": "code",
   "execution_count": 5,
   "metadata": {},
   "outputs": [
    {
     "ename": "AttributeError",
     "evalue": "module 'neurodsp' has no attribute 'sim_bursty_oscillator'",
     "output_type": "error",
     "traceback": [
      "\u001b[0;31m---------------------------------------------------------------------------\u001b[0m",
      "\u001b[0;31mAttributeError\u001b[0m                            Traceback (most recent call last)",
      "\u001b[0;32m<ipython-input-5-839c220cbdee>\u001b[0m in \u001b[0;36m<module>\u001b[0;34m()\u001b[0m\n\u001b[1;32m      5\u001b[0m     \u001b[0;32melse\u001b[0m\u001b[0;34m:\u001b[0m\u001b[0;34m\u001b[0m\u001b[0m\n\u001b[1;32m      6\u001b[0m         \u001b[0mp_leave\u001b[0m \u001b[0;34m=\u001b[0m \u001b[0mprob_leave_burst\u001b[0m\u001b[0;34m\u001b[0m\u001b[0m\n\u001b[0;32m----> 7\u001b[0;31m     osc = neurodsp.sim_bursty_oscillator(freq, T, Fs,\n\u001b[0m\u001b[1;32m      8\u001b[0m                                          \u001b[0mcycle_features\u001b[0m \u001b[0;34m=\u001b[0m \u001b[0mcycle_features_use\u001b[0m\u001b[0;34m,\u001b[0m\u001b[0;34m\u001b[0m\u001b[0m\n\u001b[1;32m      9\u001b[0m                                          \u001b[0mprob_enter_burst\u001b[0m\u001b[0;34m=\u001b[0m\u001b[0mp_enter\u001b[0m\u001b[0;34m,\u001b[0m\u001b[0;34m\u001b[0m\u001b[0m\n",
      "\u001b[0;31mAttributeError\u001b[0m: module 'neurodsp' has no attribute 'sim_bursty_oscillator'"
     ]
    }
   ],
   "source": [
    "loop_oscs = []\n",
    "for p_enter in loop_prob_enter_burst:\n",
    "    if p_enter == 1:\n",
    "        p_leave = 0\n",
    "    else:\n",
    "        p_leave = prob_leave_burst\n",
    "    osc = neurodsp.sim_bursty_oscillator(freq, T, Fs,\n",
    "                                         cycle_features = cycle_features_use,\n",
    "                                         prob_enter_burst=p_enter,\n",
    "                                         prob_leave_burst=p_leave)\n",
    "    loop_oscs.append(osc)"
   ]
  },
  {
   "cell_type": "code",
   "execution_count": null,
   "metadata": {},
   "outputs": [],
   "source": [
    "t = np.arange(0,T,1/Fs)\n",
    "tidx = t <= 2\n",
    "plt.figure(figsize=(12,3))\n",
    "for i in range(len(loop_oscs)):\n",
    "    plt.plot(t[tidx], loop_oscs[i][tidx] + i*2)\n",
    "plt.xlim((0,2))\n",
    "plt.xlabel('Time (s)')\n",
    "plt.ylabel('Voltage')"
   ]
  },
  {
   "cell_type": "code",
   "execution_count": null,
   "metadata": {
    "scrolled": true
   },
   "outputs": [],
   "source": [
    "fs, psds = [], []\n",
    "for i in range(len(loop_oscs)):\n",
    "    f, psd = neurodsp.spectral.psd(loop_oscs[i], Fs)\n",
    "    fs.append(f)\n",
    "    psds.append(psd)\n",
    "\n",
    "plt.figure(figsize=(10,5))\n",
    "for i in range(len(loop_oscs)):\n",
    "    fidx = fs[i] <= 100\n",
    "    plt.semilogy(fs[i][fidx], psds[i][fidx],\n",
    "                 label=loop_prob_enter_burst[i])\n",
    "plt.legend(title='burst prevalence')"
   ]
  },
  {
   "cell_type": "markdown",
   "metadata": {},
   "source": [
    "# 2. Effect of period changes on PSD"
   ]
  },
  {
   "cell_type": "code",
   "execution_count": null,
   "metadata": {},
   "outputs": [],
   "source": [
    "freq = 10\n",
    "T = 100\n",
    "Fs = 1000"
   ]
  },
  {
   "cell_type": "code",
   "execution_count": null,
   "metadata": {},
   "outputs": [],
   "source": [
    "cycle_features_use = {'amp_mean': 1, 'amp_burst_std': 0, 'amp_std': 0,\n",
    "                      'period_mean': 100,\n",
    "                      'period_burst_std': 0,\n",
    "                      'period_std': None,\n",
    "                      'rdsym_mean': .3, 'rdsym_burst_std': 0, 'rdsym_std': 0}\n",
    "prob_enter_burst = 1\n",
    "prob_leave_burst = 0\n",
    "\n",
    "loop_period_stds = [0, 3, 15]"
   ]
  },
  {
   "cell_type": "code",
   "execution_count": null,
   "metadata": {},
   "outputs": [],
   "source": [
    "loop_oscs = []\n",
    "for per_std in loop_period_stds:\n",
    "    cycle_features_use['period_std'] = per_std\n",
    "    osc = neurodsp.sim_bursty_oscillator(freq, T, Fs,\n",
    "                                         cycle_features = cycle_features_use,\n",
    "                                         prob_enter_burst=prob_enter_burst,\n",
    "                                         prob_leave_burst=prob_leave_burst)\n",
    "    loop_oscs.append(osc)"
   ]
  },
  {
   "cell_type": "code",
   "execution_count": null,
   "metadata": {},
   "outputs": [],
   "source": [
    "t = np.arange(0,T,1/Fs)\n",
    "tidx = t <= 2\n",
    "plt.figure(figsize=(12,3))\n",
    "for i in range(len(loop_oscs)):\n",
    "    plt.plot(t[tidx], loop_oscs[i][tidx] + i*2)\n",
    "plt.xlim((0,2))\n",
    "plt.xlabel('Time (s)')\n",
    "plt.ylabel('Voltage')"
   ]
  },
  {
   "cell_type": "code",
   "execution_count": null,
   "metadata": {
    "scrolled": true
   },
   "outputs": [],
   "source": [
    "fs, psds = [], []\n",
    "for i in range(len(loop_oscs)):\n",
    "    f, psd = neurodsp.spectral.psd(loop_oscs[i], Fs)\n",
    "    fs.append(f)\n",
    "    psds.append(psd)\n",
    "\n",
    "plt.figure(figsize=(10,5))\n",
    "for i in range(len(loop_oscs)):\n",
    "    fidx = fs[i] <= 100\n",
    "    plt.semilogy(fs[i][fidx], psds[i][fidx],\n",
    "                 label=loop_period_stds[i])\n",
    "plt.legend(title='period st. dev.')"
   ]
  },
  {
   "cell_type": "markdown",
   "metadata": {},
   "source": [
    "# 3. Effect of symmetry changes on PSD"
   ]
  },
  {
   "cell_type": "code",
   "execution_count": null,
   "metadata": {},
   "outputs": [],
   "source": [
    "cycle_features_use = {'amp_mean': 1, 'amp_burst_std': 0, 'amp_std': 0,\n",
    "                      'period_mean': 100,\n",
    "                      'period_burst_std': 0,\n",
    "                      'period_std': 0,\n",
    "                      'rdsym_mean': .3, 'rdsym_burst_std': 0, 'rdsym_std': None}\n",
    "prob_enter_burst = 1\n",
    "prob_leave_burst = 0\n",
    "\n",
    "loop_rdsym_stds = [0, .01, .07]"
   ]
  },
  {
   "cell_type": "code",
   "execution_count": null,
   "metadata": {},
   "outputs": [],
   "source": [
    "loop_oscs = []\n",
    "for rdsym_std in loop_rdsym_stds:\n",
    "    cycle_features_use['rdsym_std'] = rdsym_std\n",
    "    osc = neurodsp.sim_bursty_oscillator(freq, T, Fs,\n",
    "                                         cycle_features = cycle_features_use,\n",
    "                                         prob_enter_burst=prob_enter_burst,\n",
    "                                         prob_leave_burst=prob_leave_burst)\n",
    "    loop_oscs.append(osc)"
   ]
  },
  {
   "cell_type": "code",
   "execution_count": null,
   "metadata": {},
   "outputs": [],
   "source": [
    "t = np.arange(0,T,1/Fs)\n",
    "tidx = t <= 2\n",
    "plt.figure(figsize=(12,3))\n",
    "for i in range(len(loop_oscs)):\n",
    "    plt.plot(t[tidx], loop_oscs[i][tidx] + i*2)\n",
    "plt.xlim((0,2))\n",
    "plt.xlabel('Time (s)')\n",
    "plt.ylabel('Voltage')"
   ]
  },
  {
   "cell_type": "code",
   "execution_count": null,
   "metadata": {
    "scrolled": true
   },
   "outputs": [],
   "source": [
    "fs, psds = [], []\n",
    "for i in range(len(loop_oscs)):\n",
    "    f, psd = neurodsp.spectral.psd(loop_oscs[i], Fs)\n",
    "    fs.append(f)\n",
    "    psds.append(psd)\n",
    "\n",
    "plt.figure(figsize=(10,5))\n",
    "for i in range(len(loop_oscs)):\n",
    "    fidx = fs[i] <= 100\n",
    "    plt.semilogy(fs[i][fidx], psds[i][fidx],\n",
    "                 label=loop_rdsym_stds[i])\n",
    "plt.legend(title='rdsym st. dev.')"
   ]
  }
 ],
 "metadata": {
  "kernelspec": {
   "display_name": "Python 3",
   "language": "python",
   "name": "python3"
  },
  "language_info": {
   "codemirror_mode": {
    "name": "ipython",
    "version": 3
   },
   "file_extension": ".py",
   "mimetype": "text/x-python",
   "name": "python",
   "nbconvert_exporter": "python",
   "pygments_lexer": "ipython3",
   "version": "3.6.4"
  }
 },
 "nbformat": 4,
 "nbformat_minor": 2
}
